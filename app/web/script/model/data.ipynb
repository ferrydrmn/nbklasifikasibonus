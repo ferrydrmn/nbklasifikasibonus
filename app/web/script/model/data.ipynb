{
 "cells": [
  {
   "cell_type": "code",
   "execution_count": 3,
   "metadata": {},
   "outputs": [],
   "source": [
    "# Import package yang dibutuhkan\n",
    "\n",
    "import pandas as pd"
   ]
  },
  {
   "cell_type": "code",
   "execution_count": 4,
   "metadata": {},
   "outputs": [],
   "source": [
    "# Data yang digunakan untuk klasifikasi\n",
    "\n",
    "data = {\n",
    "    'nama': [\n",
    "        'Andi',\n",
    "        'Budi',\n",
    "        'Citra',\n",
    "        'Dedi',\n",
    "        'Evan',\n",
    "        'Feni',\n",
    "        'Gito',\n",
    "        'Hani',\n",
    "        'Jodi',\n",
    "        'Kafi',\n",
    "        'Linda'\n",
    "    ],\n",
    "    'kartu': [\n",
    "        'prabayar',\n",
    "        'pascabayar',\n",
    "        'prabayar',\n",
    "        'prabayar',\n",
    "        'pascabayar',\n",
    "        'pascabayar',\n",
    "        'prabayar',\n",
    "        'prabayar',\n",
    "        'pascabayar',\n",
    "        'pascabayar',\n",
    "        'pascabayar',\n",
    "    ],\n",
    "    'panggilan': [\n",
    "        'sedikit',\n",
    "        'banyak',\n",
    "        'banyak',\n",
    "        'banyak',\n",
    "        'cukup',\n",
    "        'cukup',\n",
    "        'cukup',\n",
    "        'cukup',\n",
    "        'sedikit',\n",
    "        'banyak',\n",
    "        'sedikit'\n",
    "    ],\n",
    "    'blok': [\n",
    "        'sedang',\n",
    "        'sedang',\n",
    "        'sedang',\n",
    "        'rendah',\n",
    "        'tinggi',\n",
    "        'sedang',\n",
    "        'sedang',\n",
    "        'rendah',\n",
    "        'tinggi',\n",
    "        'tinggi',\n",
    "        'rendah'\n",
    "    ],\n",
    "    'bonus': [\n",
    "        'tidak',\n",
    "        'ya',\n",
    "        'ya',\n",
    "        'tidak',\n",
    "        'ya',\n",
    "        'ya',\n",
    "        'ya',\n",
    "        'tidak',\n",
    "        'ya',\n",
    "        'ya',\n",
    "        'ya',\n",
    "    ],\n",
    "}"
   ]
  },
  {
   "cell_type": "code",
   "execution_count": 5,
   "metadata": {},
   "outputs": [],
   "source": [
    "# Mengubah data dictionary menjadi dataframe\n",
    "\n",
    "df = pd.DataFrame(data)"
   ]
  },
  {
   "cell_type": "code",
   "execution_count": 7,
   "metadata": {},
   "outputs": [],
   "source": [
    "# Ekstrak dataframe ke dalam bentuk CSV\n",
    "\n",
    "df.to_csv('data.csv', index=None)"
   ]
  }
 ],
 "metadata": {
  "kernelspec": {
   "display_name": "Python 3.9.7 64-bit",
   "language": "python",
   "name": "python3"
  },
  "language_info": {
   "codemirror_mode": {
    "name": "ipython",
    "version": 3
   },
   "file_extension": ".py",
   "mimetype": "text/x-python",
   "name": "python",
   "nbconvert_exporter": "python",
   "pygments_lexer": "ipython3",
   "version": "3.9.7 (tags/v3.9.7:1016ef3, Aug 30 2021, 20:19:38) [MSC v.1929 64 bit (AMD64)]"
  },
  "orig_nbformat": 4,
  "vscode": {
   "interpreter": {
    "hash": "11938c6bc6919ae2720b4d5011047913343b08a43b18698fd82dedb0d4417594"
   }
  }
 },
 "nbformat": 4,
 "nbformat_minor": 2
}
