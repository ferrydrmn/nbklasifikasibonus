{
 "cells": [
  {
   "cell_type": "markdown",
   "metadata": {},
   "source": [
    "#### Import Packages yang Dibutuhkan"
   ]
  },
  {
   "cell_type": "code",
   "execution_count": 1,
   "metadata": {},
   "outputs": [],
   "source": [
    "import numpy as np\n",
    "import pandas as pd\n",
    "import pickle\n",
    "import matplotlib.pyplot as plt"
   ]
  },
  {
   "cell_type": "markdown",
   "metadata": {},
   "source": [
    "#### Import Data yang Dibutuhkan"
   ]
  },
  {
   "cell_type": "code",
   "execution_count": 2,
   "metadata": {},
   "outputs": [
    {
     "data": {
      "text/html": [
       "<div>\n",
       "<style scoped>\n",
       "    .dataframe tbody tr th:only-of-type {\n",
       "        vertical-align: middle;\n",
       "    }\n",
       "\n",
       "    .dataframe tbody tr th {\n",
       "        vertical-align: top;\n",
       "    }\n",
       "\n",
       "    .dataframe thead th {\n",
       "        text-align: right;\n",
       "    }\n",
       "</style>\n",
       "<table border=\"1\" class=\"dataframe\">\n",
       "  <thead>\n",
       "    <tr style=\"text-align: right;\">\n",
       "      <th></th>\n",
       "      <th>nama</th>\n",
       "      <th>kartu</th>\n",
       "      <th>panggilan</th>\n",
       "      <th>blok</th>\n",
       "      <th>bonus</th>\n",
       "    </tr>\n",
       "  </thead>\n",
       "  <tbody>\n",
       "    <tr>\n",
       "      <th>0</th>\n",
       "      <td>Andi</td>\n",
       "      <td>prabayar</td>\n",
       "      <td>sedikit</td>\n",
       "      <td>sedang</td>\n",
       "      <td>tidak</td>\n",
       "    </tr>\n",
       "    <tr>\n",
       "      <th>1</th>\n",
       "      <td>Budi</td>\n",
       "      <td>pascabayar</td>\n",
       "      <td>banyak</td>\n",
       "      <td>sedang</td>\n",
       "      <td>ya</td>\n",
       "    </tr>\n",
       "    <tr>\n",
       "      <th>2</th>\n",
       "      <td>Citra</td>\n",
       "      <td>prabayar</td>\n",
       "      <td>banyak</td>\n",
       "      <td>sedang</td>\n",
       "      <td>ya</td>\n",
       "    </tr>\n",
       "    <tr>\n",
       "      <th>3</th>\n",
       "      <td>Dedi</td>\n",
       "      <td>prabayar</td>\n",
       "      <td>banyak</td>\n",
       "      <td>rendah</td>\n",
       "      <td>tidak</td>\n",
       "    </tr>\n",
       "    <tr>\n",
       "      <th>4</th>\n",
       "      <td>Evan</td>\n",
       "      <td>pascabayar</td>\n",
       "      <td>cukup</td>\n",
       "      <td>tinggi</td>\n",
       "      <td>ya</td>\n",
       "    </tr>\n",
       "    <tr>\n",
       "      <th>5</th>\n",
       "      <td>Feni</td>\n",
       "      <td>pascabayar</td>\n",
       "      <td>cukup</td>\n",
       "      <td>sedang</td>\n",
       "      <td>ya</td>\n",
       "    </tr>\n",
       "    <tr>\n",
       "      <th>6</th>\n",
       "      <td>Gito</td>\n",
       "      <td>prabayar</td>\n",
       "      <td>cukup</td>\n",
       "      <td>sedang</td>\n",
       "      <td>ya</td>\n",
       "    </tr>\n",
       "    <tr>\n",
       "      <th>7</th>\n",
       "      <td>Hani</td>\n",
       "      <td>prabayar</td>\n",
       "      <td>cukup</td>\n",
       "      <td>rendah</td>\n",
       "      <td>tidak</td>\n",
       "    </tr>\n",
       "    <tr>\n",
       "      <th>8</th>\n",
       "      <td>Jodi</td>\n",
       "      <td>pascabayar</td>\n",
       "      <td>sedikit</td>\n",
       "      <td>tinggi</td>\n",
       "      <td>ya</td>\n",
       "    </tr>\n",
       "    <tr>\n",
       "      <th>9</th>\n",
       "      <td>Kafi</td>\n",
       "      <td>pascabayar</td>\n",
       "      <td>banyak</td>\n",
       "      <td>tinggi</td>\n",
       "      <td>ya</td>\n",
       "    </tr>\n",
       "    <tr>\n",
       "      <th>10</th>\n",
       "      <td>Linda</td>\n",
       "      <td>pascabayar</td>\n",
       "      <td>sedikit</td>\n",
       "      <td>rendah</td>\n",
       "      <td>ya</td>\n",
       "    </tr>\n",
       "    <tr>\n",
       "      <th>11</th>\n",
       "      <td>Jefri</td>\n",
       "      <td>pascabayar</td>\n",
       "      <td>sedikit</td>\n",
       "      <td>rendah</td>\n",
       "      <td>ya</td>\n",
       "    </tr>\n",
       "    <tr>\n",
       "      <th>12</th>\n",
       "      <td>Putra</td>\n",
       "      <td>pascabayar</td>\n",
       "      <td>cukup</td>\n",
       "      <td>sedang</td>\n",
       "      <td>ya</td>\n",
       "    </tr>\n",
       "    <tr>\n",
       "      <th>13</th>\n",
       "      <td>Ihsan</td>\n",
       "      <td>prabayar</td>\n",
       "      <td>sedikit</td>\n",
       "      <td>sedang</td>\n",
       "      <td>tidak</td>\n",
       "    </tr>\n",
       "    <tr>\n",
       "      <th>14</th>\n",
       "      <td>Andra</td>\n",
       "      <td>pascabayar</td>\n",
       "      <td>banyak</td>\n",
       "      <td>sedang</td>\n",
       "      <td>ya</td>\n",
       "    </tr>\n",
       "    <tr>\n",
       "      <th>15</th>\n",
       "      <td>Dimas</td>\n",
       "      <td>prabayar</td>\n",
       "      <td>banyak</td>\n",
       "      <td>sedang</td>\n",
       "      <td>ya</td>\n",
       "    </tr>\n",
       "    <tr>\n",
       "      <th>16</th>\n",
       "      <td>Beno</td>\n",
       "      <td>prabayar</td>\n",
       "      <td>banyak</td>\n",
       "      <td>rendah</td>\n",
       "      <td>tidak</td>\n",
       "    </tr>\n",
       "    <tr>\n",
       "      <th>17</th>\n",
       "      <td>Ucil</td>\n",
       "      <td>pascabayar</td>\n",
       "      <td>cukup</td>\n",
       "      <td>tinggi</td>\n",
       "      <td>ya</td>\n",
       "    </tr>\n",
       "  </tbody>\n",
       "</table>\n",
       "</div>"
      ],
      "text/plain": [
       "     nama       kartu panggilan    blok  bonus\n",
       "0    Andi    prabayar   sedikit  sedang  tidak\n",
       "1    Budi  pascabayar    banyak  sedang     ya\n",
       "2   Citra    prabayar    banyak  sedang     ya\n",
       "3    Dedi    prabayar    banyak  rendah  tidak\n",
       "4    Evan  pascabayar     cukup  tinggi     ya\n",
       "5    Feni  pascabayar     cukup  sedang     ya\n",
       "6    Gito    prabayar     cukup  sedang     ya\n",
       "7    Hani    prabayar     cukup  rendah  tidak\n",
       "8    Jodi  pascabayar   sedikit  tinggi     ya\n",
       "9    Kafi  pascabayar    banyak  tinggi     ya\n",
       "10  Linda  pascabayar   sedikit  rendah     ya\n",
       "11  Jefri  pascabayar   sedikit  rendah     ya\n",
       "12  Putra  pascabayar     cukup  sedang     ya\n",
       "13  Ihsan    prabayar   sedikit  sedang  tidak\n",
       "14  Andra  pascabayar    banyak  sedang     ya\n",
       "15  Dimas    prabayar    banyak  sedang     ya\n",
       "16   Beno    prabayar    banyak  rendah  tidak\n",
       "17   Ucil  pascabayar     cukup  tinggi     ya"
      ]
     },
     "execution_count": 2,
     "metadata": {},
     "output_type": "execute_result"
    }
   ],
   "source": [
    "df = pd.read_csv('data.csv')\n",
    "df"
   ]
  },
  {
   "cell_type": "markdown",
   "metadata": {},
   "source": [
    "#### Lakukan Pemeriksaan dan Analisis Deskriptif pada Data"
   ]
  },
  {
   "cell_type": "code",
   "execution_count": 3,
   "metadata": {},
   "outputs": [
    {
     "data": {
      "text/html": [
       "<div>\n",
       "<style scoped>\n",
       "    .dataframe tbody tr th:only-of-type {\n",
       "        vertical-align: middle;\n",
       "    }\n",
       "\n",
       "    .dataframe tbody tr th {\n",
       "        vertical-align: top;\n",
       "    }\n",
       "\n",
       "    .dataframe thead th {\n",
       "        text-align: right;\n",
       "    }\n",
       "</style>\n",
       "<table border=\"1\" class=\"dataframe\">\n",
       "  <thead>\n",
       "    <tr style=\"text-align: right;\">\n",
       "      <th></th>\n",
       "      <th>kartu</th>\n",
       "      <th>panggilan</th>\n",
       "      <th>blok</th>\n",
       "      <th>bonus</th>\n",
       "    </tr>\n",
       "  </thead>\n",
       "  <tbody>\n",
       "    <tr>\n",
       "      <th>0</th>\n",
       "      <td>prabayar</td>\n",
       "      <td>sedikit</td>\n",
       "      <td>sedang</td>\n",
       "      <td>tidak</td>\n",
       "    </tr>\n",
       "    <tr>\n",
       "      <th>1</th>\n",
       "      <td>pascabayar</td>\n",
       "      <td>banyak</td>\n",
       "      <td>sedang</td>\n",
       "      <td>ya</td>\n",
       "    </tr>\n",
       "    <tr>\n",
       "      <th>2</th>\n",
       "      <td>prabayar</td>\n",
       "      <td>banyak</td>\n",
       "      <td>sedang</td>\n",
       "      <td>ya</td>\n",
       "    </tr>\n",
       "    <tr>\n",
       "      <th>3</th>\n",
       "      <td>prabayar</td>\n",
       "      <td>banyak</td>\n",
       "      <td>rendah</td>\n",
       "      <td>tidak</td>\n",
       "    </tr>\n",
       "    <tr>\n",
       "      <th>4</th>\n",
       "      <td>pascabayar</td>\n",
       "      <td>cukup</td>\n",
       "      <td>tinggi</td>\n",
       "      <td>ya</td>\n",
       "    </tr>\n",
       "    <tr>\n",
       "      <th>5</th>\n",
       "      <td>pascabayar</td>\n",
       "      <td>cukup</td>\n",
       "      <td>sedang</td>\n",
       "      <td>ya</td>\n",
       "    </tr>\n",
       "    <tr>\n",
       "      <th>6</th>\n",
       "      <td>prabayar</td>\n",
       "      <td>cukup</td>\n",
       "      <td>sedang</td>\n",
       "      <td>ya</td>\n",
       "    </tr>\n",
       "    <tr>\n",
       "      <th>7</th>\n",
       "      <td>prabayar</td>\n",
       "      <td>cukup</td>\n",
       "      <td>rendah</td>\n",
       "      <td>tidak</td>\n",
       "    </tr>\n",
       "    <tr>\n",
       "      <th>8</th>\n",
       "      <td>pascabayar</td>\n",
       "      <td>sedikit</td>\n",
       "      <td>tinggi</td>\n",
       "      <td>ya</td>\n",
       "    </tr>\n",
       "    <tr>\n",
       "      <th>9</th>\n",
       "      <td>pascabayar</td>\n",
       "      <td>banyak</td>\n",
       "      <td>tinggi</td>\n",
       "      <td>ya</td>\n",
       "    </tr>\n",
       "    <tr>\n",
       "      <th>10</th>\n",
       "      <td>pascabayar</td>\n",
       "      <td>sedikit</td>\n",
       "      <td>rendah</td>\n",
       "      <td>ya</td>\n",
       "    </tr>\n",
       "    <tr>\n",
       "      <th>11</th>\n",
       "      <td>pascabayar</td>\n",
       "      <td>sedikit</td>\n",
       "      <td>rendah</td>\n",
       "      <td>ya</td>\n",
       "    </tr>\n",
       "    <tr>\n",
       "      <th>12</th>\n",
       "      <td>pascabayar</td>\n",
       "      <td>cukup</td>\n",
       "      <td>sedang</td>\n",
       "      <td>ya</td>\n",
       "    </tr>\n",
       "    <tr>\n",
       "      <th>13</th>\n",
       "      <td>prabayar</td>\n",
       "      <td>sedikit</td>\n",
       "      <td>sedang</td>\n",
       "      <td>tidak</td>\n",
       "    </tr>\n",
       "    <tr>\n",
       "      <th>14</th>\n",
       "      <td>pascabayar</td>\n",
       "      <td>banyak</td>\n",
       "      <td>sedang</td>\n",
       "      <td>ya</td>\n",
       "    </tr>\n",
       "    <tr>\n",
       "      <th>15</th>\n",
       "      <td>prabayar</td>\n",
       "      <td>banyak</td>\n",
       "      <td>sedang</td>\n",
       "      <td>ya</td>\n",
       "    </tr>\n",
       "    <tr>\n",
       "      <th>16</th>\n",
       "      <td>prabayar</td>\n",
       "      <td>banyak</td>\n",
       "      <td>rendah</td>\n",
       "      <td>tidak</td>\n",
       "    </tr>\n",
       "    <tr>\n",
       "      <th>17</th>\n",
       "      <td>pascabayar</td>\n",
       "      <td>cukup</td>\n",
       "      <td>tinggi</td>\n",
       "      <td>ya</td>\n",
       "    </tr>\n",
       "  </tbody>\n",
       "</table>\n",
       "</div>"
      ],
      "text/plain": [
       "         kartu panggilan    blok  bonus\n",
       "0     prabayar   sedikit  sedang  tidak\n",
       "1   pascabayar    banyak  sedang     ya\n",
       "2     prabayar    banyak  sedang     ya\n",
       "3     prabayar    banyak  rendah  tidak\n",
       "4   pascabayar     cukup  tinggi     ya\n",
       "5   pascabayar     cukup  sedang     ya\n",
       "6     prabayar     cukup  sedang     ya\n",
       "7     prabayar     cukup  rendah  tidak\n",
       "8   pascabayar   sedikit  tinggi     ya\n",
       "9   pascabayar    banyak  tinggi     ya\n",
       "10  pascabayar   sedikit  rendah     ya\n",
       "11  pascabayar   sedikit  rendah     ya\n",
       "12  pascabayar     cukup  sedang     ya\n",
       "13    prabayar   sedikit  sedang  tidak\n",
       "14  pascabayar    banyak  sedang     ya\n",
       "15    prabayar    banyak  sedang     ya\n",
       "16    prabayar    banyak  rendah  tidak\n",
       "17  pascabayar     cukup  tinggi     ya"
      ]
     },
     "execution_count": 3,
     "metadata": {},
     "output_type": "execute_result"
    }
   ],
   "source": [
    "# Membuang data nama pelanggan\n",
    "\n",
    "df.drop(columns={'nama'}, inplace=True)\n",
    "df"
   ]
  },
  {
   "cell_type": "code",
   "execution_count": 4,
   "metadata": {},
   "outputs": [
    {
     "data": {
      "text/plain": [
       "kartu        0\n",
       "panggilan    0\n",
       "blok         0\n",
       "bonus        0\n",
       "dtype: int64"
      ]
     },
     "execution_count": 4,
     "metadata": {},
     "output_type": "execute_result"
    }
   ],
   "source": [
    "# Memeriksa data yang null\n",
    "\n",
    "df.isnull().sum()"
   ]
  },
  {
   "cell_type": "code",
   "execution_count": 5,
   "metadata": {},
   "outputs": [
    {
     "name": "stdout",
     "output_type": "stream",
     "text": [
      "<class 'pandas.core.frame.DataFrame'>\n",
      "RangeIndex: 18 entries, 0 to 17\n",
      "Data columns (total 4 columns):\n",
      " #   Column     Non-Null Count  Dtype \n",
      "---  ------     --------------  ----- \n",
      " 0   kartu      18 non-null     object\n",
      " 1   panggilan  18 non-null     object\n",
      " 2   blok       18 non-null     object\n",
      " 3   bonus      18 non-null     object\n",
      "dtypes: object(4)\n",
      "memory usage: 704.0+ bytes\n"
     ]
    }
   ],
   "source": [
    "# Melihat informasi kolom\n",
    "\n",
    "df.info()"
   ]
  },
  {
   "cell_type": "code",
   "execution_count": 6,
   "metadata": {},
   "outputs": [
    {
     "data": {
      "text/plain": [
       "pascabayar    10\n",
       "prabayar       8\n",
       "Name: kartu, dtype: int64"
      ]
     },
     "execution_count": 6,
     "metadata": {},
     "output_type": "execute_result"
    }
   ],
   "source": [
    "# Melihat frekuensi data dari kolom kartu\n",
    "\n",
    "df['kartu'].value_counts()"
   ]
  },
  {
   "cell_type": "code",
   "execution_count": 7,
   "metadata": {},
   "outputs": [
    {
     "data": {
      "image/png": "[encoded data removed]",
      "text/plain": [
       "<Figure size 640x480 with 1 Axes>"
      ]
     },
     "metadata": {},
     "output_type": "display_data"
    }
   ],
   "source": [
    "# Visualisasi frekuensi data dari kolom kartu\n",
    "x = df['kartu'].value_counts().index.to_numpy()\n",
    "y = df['kartu'].value_counts().to_numpy()\n",
    "\n",
    "plt.title('Bar Chart Kartu')\n",
    "plt.bar(x, y)\n",
    "plt.show()"
   ]
  },
  {
   "cell_type": "code",
   "execution_count": 8,
   "metadata": {},
   "outputs": [
    {
     "data": {
      "text/plain": [
       "banyak     7\n",
       "cukup      6\n",
       "sedikit    5\n",
       "Name: panggilan, dtype: int64"
      ]
     },
     "execution_count": 8,
     "metadata": {},
     "output_type": "execute_result"
    }
   ],
   "source": [
    "# Melihat frekuensi data dari kolom panggilan\n",
    "\n",
    "df['panggilan'].value_counts()"
   ]
  },
  {
   "cell_type": "code",
   "execution_count": 9,
   "metadata": {},
   "outputs": [
    {
     "data": {
      "image/png": "[encoded data removed]",
      "text/plain": [
       "<Figure size 640x480 with 1 Axes>"
      ]
     },
     "metadata": {},
     "output_type": "display_data"
    }
   ],
   "source": [
    "# Visualisasi frekuensi data dari kolom panggilan\n",
    "x = df['panggilan'].value_counts().index.to_numpy()\n",
    "y = df['panggilan'].value_counts().to_numpy()\n",
    "\n",
    "plt.title('Barchart Kolom Panggilan')\n",
    "plt.bar(x, y)\n",
    "plt.show()"
   ]
  },
  {
   "cell_type": "code",
   "execution_count": 10,
   "metadata": {},
   "outputs": [
    {
     "data": {
      "text/plain": [
       "sedang    9\n",
       "rendah    5\n",
       "tinggi    4\n",
       "Name: blok, dtype: int64"
      ]
     },
     "execution_count": 10,
     "metadata": {},
     "output_type": "execute_result"
    }
   ],
   "source": [
    "# Melihat frekuensi data dari kolom blok\n",
    "\n",
    "df['blok'].value_counts()"
   ]
  },
  {
   "cell_type": "code",
   "execution_count": 11,
   "metadata": {},
   "outputs": [
    {
     "data": {
      "image/png": "[encoded data removed]",
      "text/plain": [
       "<Figure size 640x480 with 1 Axes>"
      ]
     },
     "metadata": {},
     "output_type": "display_data"
    }
   ],
   "source": [
    "# Visualisasi frekuensi data dari kolom blok\n",
    "x = df['blok'].value_counts().index.to_numpy()\n",
    "y = df['blok'].value_counts().to_numpy()\n",
    "\n",
    "plt.title('Barchart Kolom Blok')\n",
    "plt.bar(x, y)\n",
    "plt.show()"
   ]
  },
  {
   "cell_type": "code",
   "execution_count": 12,
   "metadata": {},
   "outputs": [
    {
     "data": {
      "text/plain": [
       "ya       13\n",
       "tidak     5\n",
       "Name: bonus, dtype: int64"
      ]
     },
     "execution_count": 12,
     "metadata": {},
     "output_type": "execute_result"
    }
   ],
   "source": [
    "# Melihat frekuensi data dari kolom bonus\n",
    "\n",
    "df['bonus'].value_counts()"
   ]
  },
  {
   "cell_type": "code",
   "execution_count": 13,
   "metadata": {},
   "outputs": [
    {
     "data": {
      "image/png": "[encoded data removed]",
      "text/plain": [
       "<Figure size 640x480 with 1 Axes>"
      ]
     },
     "metadata": {},
     "output_type": "display_data"
    }
   ],
   "source": [
    "# Visualisasi frekuensi data dari kolom bonus\n",
    "x = df['bonus'].value_counts().index.to_numpy()\n",
    "y = df['bonus'].value_counts().to_numpy()\n",
    "\n",
    "plt.title('Barchart Kolom Bonus')\n",
    "plt.bar(x, y)\n",
    "plt.show()"
   ]
  },
  {
   "cell_type": "code",
   "execution_count": 14,
   "metadata": {},
   "outputs": [
    {
     "data": {
      "text/html": [
       "<div>\n",
       "<style scoped>\n",
       "    .dataframe tbody tr th:only-of-type {\n",
       "        vertical-align: middle;\n",
       "    }\n",
       "\n",
       "    .dataframe tbody tr th {\n",
       "        vertical-align: top;\n",
       "    }\n",
       "\n",
       "    .dataframe thead th {\n",
       "        text-align: right;\n",
       "    }\n",
       "</style>\n",
       "<table border=\"1\" class=\"dataframe\">\n",
       "  <thead>\n",
       "    <tr style=\"text-align: right;\">\n",
       "      <th></th>\n",
       "      <th>kartu</th>\n",
       "      <th>panggilan</th>\n",
       "      <th>blok</th>\n",
       "      <th>bonus</th>\n",
       "    </tr>\n",
       "  </thead>\n",
       "  <tbody>\n",
       "    <tr>\n",
       "      <th>count</th>\n",
       "      <td>18</td>\n",
       "      <td>18</td>\n",
       "      <td>18</td>\n",
       "      <td>18</td>\n",
       "    </tr>\n",
       "    <tr>\n",
       "      <th>unique</th>\n",
       "      <td>2</td>\n",
       "      <td>3</td>\n",
       "      <td>3</td>\n",
       "      <td>2</td>\n",
       "    </tr>\n",
       "    <tr>\n",
       "      <th>top</th>\n",
       "      <td>pascabayar</td>\n",
       "      <td>banyak</td>\n",
       "      <td>sedang</td>\n",
       "      <td>ya</td>\n",
       "    </tr>\n",
       "    <tr>\n",
       "      <th>freq</th>\n",
       "      <td>10</td>\n",
       "      <td>7</td>\n",
       "      <td>9</td>\n",
       "      <td>13</td>\n",
       "    </tr>\n",
       "  </tbody>\n",
       "</table>\n",
       "</div>"
      ],
      "text/plain": [
       "             kartu panggilan    blok bonus\n",
       "count           18        18      18    18\n",
       "unique           2         3       3     2\n",
       "top     pascabayar    banyak  sedang    ya\n",
       "freq            10         7       9    13"
      ]
     },
     "execution_count": 14,
     "metadata": {},
     "output_type": "execute_result"
    }
   ],
   "source": [
    "# Melihat statistik deskriptif dari data\n",
    "\n",
    "df.describe()"
   ]
  },
  {
   "cell_type": "markdown",
   "metadata": {},
   "source": [
    "#### Prapemrosesan Data"
   ]
  },
  {
   "cell_type": "code",
   "execution_count": 15,
   "metadata": {},
   "outputs": [],
   "source": [
    "# Mengubah nilai data nominal kolom kartu dengan keterangan:\n",
    "# prabayar      : 0\n",
    "# pascabayar    : 1\n",
    "\n",
    "df['kartu'] = df['kartu'].replace(['prabayar', 'pascabayar'], [0, 1])"
   ]
  },
  {
   "cell_type": "code",
   "execution_count": 16,
   "metadata": {},
   "outputs": [],
   "source": [
    "# Mengubah nilai data nominal kolom panggilan dengan keterangan:\n",
    "# sedikit   : 0\n",
    "# sedang    : 1\n",
    "# banyak    : 2\n",
    "\n",
    "df['panggilan'] = df['panggilan'].replace(['sedikit', 'cukup', 'banyak'], [0, 1, 2])"
   ]
  },
  {
   "cell_type": "code",
   "execution_count": 17,
   "metadata": {},
   "outputs": [],
   "source": [
    "# Mengubah nilai data nominal kolom panggilan dengan keterangan:\n",
    "# sedikit   : 0\n",
    "# sedang    : 1\n",
    "# banyak    : 2\n",
    "\n",
    "df['panggilan'] = df['panggilan'].replace(['sedikit', 'sedang', 'banyak'], [0, 1, 2])"
   ]
  },
  {
   "cell_type": "code",
   "execution_count": 18,
   "metadata": {},
   "outputs": [],
   "source": [
    "# Mengubah nilai data nominal kolom panggilan dengan blok:\n",
    "# rendah    : 0\n",
    "# sedang    : 1\n",
    "# tinggi    : 2\n",
    "\n",
    "df['blok'] = df['blok'].replace(['rendah', 'sedang', 'tinggi'], [0, 1, 2])"
   ]
  },
  {
   "cell_type": "code",
   "execution_count": 19,
   "metadata": {},
   "outputs": [],
   "source": [
    "# Mengubah nilai data nominal kolom panggilan dengan bonus:\n",
    "# tidak     : 0\n",
    "# ya        : 1\n",
    "\n",
    "df['bonus'] = df['bonus'].replace(['tidak', 'ya'], [0, 1])"
   ]
  },
  {
   "cell_type": "code",
   "execution_count": 20,
   "metadata": {},
   "outputs": [
    {
     "data": {
      "text/html": [
       "<div>\n",
       "<style scoped>\n",
       "    .dataframe tbody tr th:only-of-type {\n",
       "        vertical-align: middle;\n",
       "    }\n",
       "\n",
       "    .dataframe tbody tr th {\n",
       "        vertical-align: top;\n",
       "    }\n",
       "\n",
       "    .dataframe thead th {\n",
       "        text-align: right;\n",
       "    }\n",
       "</style>\n",
       "<table border=\"1\" class=\"dataframe\">\n",
       "  <thead>\n",
       "    <tr style=\"text-align: right;\">\n",
       "      <th></th>\n",
       "      <th>kartu</th>\n",
       "      <th>panggilan</th>\n",
       "      <th>blok</th>\n",
       "      <th>bonus</th>\n",
       "    </tr>\n",
       "  </thead>\n",
       "  <tbody>\n",
       "    <tr>\n",
       "      <th>0</th>\n",
       "      <td>0</td>\n",
       "      <td>0</td>\n",
       "      <td>1</td>\n",
       "      <td>0</td>\n",
       "    </tr>\n",
       "    <tr>\n",
       "      <th>1</th>\n",
       "      <td>1</td>\n",
       "      <td>2</td>\n",
       "      <td>1</td>\n",
       "      <td>1</td>\n",
       "    </tr>\n",
       "    <tr>\n",
       "      <th>2</th>\n",
       "      <td>0</td>\n",
       "      <td>2</td>\n",
       "      <td>1</td>\n",
       "      <td>1</td>\n",
       "    </tr>\n",
       "    <tr>\n",
       "      <th>3</th>\n",
       "      <td>0</td>\n",
       "      <td>2</td>\n",
       "      <td>0</td>\n",
       "      <td>0</td>\n",
       "    </tr>\n",
       "    <tr>\n",
       "      <th>4</th>\n",
       "      <td>1</td>\n",
       "      <td>1</td>\n",
       "      <td>2</td>\n",
       "      <td>1</td>\n",
       "    </tr>\n",
       "    <tr>\n",
       "      <th>5</th>\n",
       "      <td>1</td>\n",
       "      <td>1</td>\n",
       "      <td>1</td>\n",
       "      <td>1</td>\n",
       "    </tr>\n",
       "    <tr>\n",
       "      <th>6</th>\n",
       "      <td>0</td>\n",
       "      <td>1</td>\n",
       "      <td>1</td>\n",
       "      <td>1</td>\n",
       "    </tr>\n",
       "    <tr>\n",
       "      <th>7</th>\n",
       "      <td>0</td>\n",
       "      <td>1</td>\n",
       "      <td>0</td>\n",
       "      <td>0</td>\n",
       "    </tr>\n",
       "    <tr>\n",
       "      <th>8</th>\n",
       "      <td>1</td>\n",
       "      <td>0</td>\n",
       "      <td>2</td>\n",
       "      <td>1</td>\n",
       "    </tr>\n",
       "    <tr>\n",
       "      <th>9</th>\n",
       "      <td>1</td>\n",
       "      <td>2</td>\n",
       "      <td>2</td>\n",
       "      <td>1</td>\n",
       "    </tr>\n",
       "    <tr>\n",
       "      <th>10</th>\n",
       "      <td>1</td>\n",
       "      <td>0</td>\n",
       "      <td>0</td>\n",
       "      <td>1</td>\n",
       "    </tr>\n",
       "    <tr>\n",
       "      <th>11</th>\n",
       "      <td>1</td>\n",
       "      <td>0</td>\n",
       "      <td>0</td>\n",
       "      <td>1</td>\n",
       "    </tr>\n",
       "    <tr>\n",
       "      <th>12</th>\n",
       "      <td>1</td>\n",
       "      <td>1</td>\n",
       "      <td>1</td>\n",
       "      <td>1</td>\n",
       "    </tr>\n",
       "    <tr>\n",
       "      <th>13</th>\n",
       "      <td>0</td>\n",
       "      <td>0</td>\n",
       "      <td>1</td>\n",
       "      <td>0</td>\n",
       "    </tr>\n",
       "    <tr>\n",
       "      <th>14</th>\n",
       "      <td>1</td>\n",
       "      <td>2</td>\n",
       "      <td>1</td>\n",
       "      <td>1</td>\n",
       "    </tr>\n",
       "    <tr>\n",
       "      <th>15</th>\n",
       "      <td>0</td>\n",
       "      <td>2</td>\n",
       "      <td>1</td>\n",
       "      <td>1</td>\n",
       "    </tr>\n",
       "    <tr>\n",
       "      <th>16</th>\n",
       "      <td>0</td>\n",
       "      <td>2</td>\n",
       "      <td>0</td>\n",
       "      <td>0</td>\n",
       "    </tr>\n",
       "    <tr>\n",
       "      <th>17</th>\n",
       "      <td>1</td>\n",
       "      <td>1</td>\n",
       "      <td>2</td>\n",
       "      <td>1</td>\n",
       "    </tr>\n",
       "  </tbody>\n",
       "</table>\n",
       "</div>"
      ],
      "text/plain": [
       "    kartu  panggilan  blok  bonus\n",
       "0       0          0     1      0\n",
       "1       1          2     1      1\n",
       "2       0          2     1      1\n",
       "3       0          2     0      0\n",
       "4       1          1     2      1\n",
       "5       1          1     1      1\n",
       "6       0          1     1      1\n",
       "7       0          1     0      0\n",
       "8       1          0     2      1\n",
       "9       1          2     2      1\n",
       "10      1          0     0      1\n",
       "11      1          0     0      1\n",
       "12      1          1     1      1\n",
       "13      0          0     1      0\n",
       "14      1          2     1      1\n",
       "15      0          2     1      1\n",
       "16      0          2     0      0\n",
       "17      1          1     2      1"
      ]
     },
     "execution_count": 20,
     "metadata": {},
     "output_type": "execute_result"
    }
   ],
   "source": [
    "df"
   ]
  },
  {
   "cell_type": "code",
   "execution_count": 21,
   "metadata": {},
   "outputs": [
    {
     "data": {
      "text/plain": [
       "array([[0, 1, 0, 0, 1, 1, 0, 0, 1, 1, 1, 1, 1, 0, 1, 0, 0, 1],\n",
       "       [0, 2, 2, 2, 1, 1, 1, 1, 0, 2, 0, 0, 1, 0, 2, 2, 2, 1],\n",
       "       [1, 1, 1, 0, 2, 1, 1, 0, 2, 2, 0, 0, 1, 1, 1, 1, 0, 2],\n",
       "       [0, 1, 1, 0, 1, 1, 1, 0, 1, 1, 1, 1, 1, 0, 1, 1, 0, 1]],\n",
       "      dtype=int64)"
      ]
     },
     "execution_count": 21,
     "metadata": {},
     "output_type": "execute_result"
    }
   ],
   "source": [
    "np.transpose(df.to_numpy())"
   ]
  },
  {
   "cell_type": "code",
   "execution_count": 22,
   "metadata": {},
   "outputs": [
    {
     "name": "stdout",
     "output_type": "stream",
     "text": [
      "Data latih: \n",
      "[[0 0 1]\n",
      " [1 2 1]\n",
      " [0 2 1]\n",
      " [0 2 0]\n",
      " [1 1 2]\n",
      " [1 1 1]\n",
      " [0 1 1]\n",
      " [0 1 0]\n",
      " [1 0 2]\n",
      " [1 2 2]\n",
      " [1 0 0]\n",
      " [1 0 0]\n",
      " [1 1 1]\n",
      " [0 0 1]]\n",
      "[0 1 1 0 1 1 1 0 1 1 1 1 1 0]\n",
      "Data uji\n",
      "[[1 2 1]\n",
      " [0 2 1]\n",
      " [0 2 0]\n",
      " [1 1 2]]\n",
      "[1 1 0 1]\n"
     ]
    }
   ],
   "source": [
    "# Memisahkan kolom fitur dengan kolom target\n",
    "# Membagi data ke data latih dan data uji\n",
    "\n",
    "x_train = df.drop(columns=['bonus']).iloc[0:round(0.8 * len(df))].to_numpy()\n",
    "y_train = df['bonus'].iloc[0 : round(0.8 * len(df))].to_numpy()\n",
    "\n",
    "x_test = df.drop(columns=['bonus']).iloc[len(x_train) : len(df) + 1].to_numpy()\n",
    "y_test = df['bonus'].iloc[len(x_train) : len(df) + 1].to_numpy()\n",
    "\n",
    "print('Data latih: ')\n",
    "print(x_train)\n",
    "print(y_train)\n",
    "\n",
    "print('Data uji')\n",
    "print(x_test)\n",
    "print(y_test)"
   ]
  },
  {
   "cell_type": "markdown",
   "metadata": {},
   "source": [
    "#### Melatih Model Klasifikasi"
   ]
  },
  {
   "cell_type": "code",
   "execution_count": 24,
   "metadata": {},
   "outputs": [],
   "source": [
    "# Import model yang dibutuhkan\n",
    "\n",
    "from NaiveBayes import NaiveBayes"
   ]
  },
  {
   "cell_type": "code",
   "execution_count": 25,
   "metadata": {},
   "outputs": [],
   "source": [
    "# Mendefinisikan model dan melatih model\n",
    "\n",
    "clf = NaiveBayes()\n",
    "clf.train(x_train, y_train)"
   ]
  },
  {
   "cell_type": "code",
   "execution_count": 34,
   "metadata": {},
   "outputs": [
    {
     "data": {
      "text/plain": [
       "(0, [0.125, 0.03])"
      ]
     },
     "execution_count": 34,
     "metadata": {},
     "output_type": "execute_result"
    }
   ],
   "source": [
    "# Mencoba melakukan prediksi\n",
    "\n",
    "clf.predict(x_test[1])"
   ]
  },
  {
   "cell_type": "code",
   "execution_count": 27,
   "metadata": {},
   "outputs": [],
   "source": [
    "# Expor model yang telah dibuat\n",
    "\n",
    "pickle.dump(clf, open('model.pkl', 'wb'))"
   ]
  },
  {
   "cell_type": "code",
   "execution_count": 29,
   "metadata": {},
   "outputs": [
    {
     "data": {
      "text/plain": [
       "array([1, 1, 0, 1], dtype=int64)"
      ]
     },
     "execution_count": 29,
     "metadata": {},
     "output_type": "execute_result"
    }
   ],
   "source": [
    "y_test"
   ]
  },
  {
   "cell_type": "code",
   "execution_count": null,
   "metadata": {},
   "outputs": [],
   "source": []
  }
 ],
 "metadata": {
  "kernelspec": {
   "display_name": "Python 3.9.7 ('nb': venv)",
   "language": "python",
   "name": "python3"
  },
  "language_info": {
   "codemirror_mode": {
    "name": "ipython",
    "version": 3
   },
   "file_extension": ".py",
   "mimetype": "text/x-python",
   "name": "python",
   "nbconvert_exporter": "python",
   "pygments_lexer": "ipython3",
   "version": "3.9.7"
  },
  "orig_nbformat": 4,
  "vscode": {
   "interpreter": {
    "hash": "8b2ccf9ffe0a6b4a3a60ef4f4a494cffb2491b67ecb407c993bfb83b7376af25"
   }
  }
 },
 "nbformat": 4,
 "nbformat_minor": 2
}
